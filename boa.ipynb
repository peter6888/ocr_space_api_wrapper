{
 "cells": [
  {
   "cell_type": "code",
   "execution_count": 6,
   "metadata": {
    "collapsed": true
   },
   "outputs": [],
   "source": [
    "import ocr\n",
    "import os\n",
    "#from collections import defaultdict"
   ]
  },
  {
   "cell_type": "code",
   "execution_count": 37,
   "metadata": {},
   "outputs": [],
   "source": [
    "def ocr_folder(ocrspace, img_path):\n",
    "    ocr_result = []\n",
    "    #dct_result = defaultdict(list)\n",
    "    for idx, img_name in enumerate(sorted(os.listdir(img_path))):\n",
    "        if not img_name.lower().endswith(('.bmp', '.jpeg', '.jpg', '.png', '.tif', '.tiff')):\n",
    "            continue\n",
    "        print('processing file {}'.format(img_name))\n",
    "        img_file = os.path.join(img_path, img_name)\n",
    "        file_ocr = ocrspace.ocr_file(img_file)\n",
    "        n = len(file_ocr['ParsedResults'][0]['TextOverlay']['Lines'])\n",
    "        for i in range(n):\n",
    "            #words = file_ocr['ParsedResults'][0]['TextOverlay']['Lines'][i]['Words']\n",
    "            #for j in range(len(words)):\n",
    "            #   ocr_result.append(words[j]['WordText'])\n",
    "            ocr_result.append(file_ocr['ParsedResults'][0]['TextOverlay']['Lines'][i]['Words'][-1]['WordText'])\n",
    "            #dct_result[img_name[:4]].append(file_ocr['ParsedResults'][0]['TextOverlay']['Lines'][i]['Words'][-1]['WordText'])\n",
    "            \n",
    "    return ocr_result"
   ]
  },
  {
   "cell_type": "code",
   "execution_count": 38,
   "metadata": {},
   "outputs": [
    {
     "name": "stdout",
     "output_type": "stream",
     "text": [
      "processing file 4284_a1.JPG\n"
     ]
    },
    {
     "name": "stdout",
     "output_type": "stream",
     "text": [
      "processing file 4284_a2.JPG\n"
     ]
    },
    {
     "name": "stdout",
     "output_type": "stream",
     "text": [
      "processing file 4284_a3.JPG\n"
     ]
    },
    {
     "name": "stdout",
     "output_type": "stream",
     "text": [
      "processing file 4284_a4.JPG\n"
     ]
    },
    {
     "name": "stdout",
     "output_type": "stream",
     "text": [
      "processing file 4284_b1.JPG\n"
     ]
    },
    {
     "name": "stdout",
     "output_type": "stream",
     "text": [
      "processing file 4284_b2.JPG\n"
     ]
    },
    {
     "name": "stdout",
     "output_type": "stream",
     "text": [
      "processing file 4284_b3.JPG\n"
     ]
    },
    {
     "name": "stdout",
     "output_type": "stream",
     "text": [
      "processing file 4284_b4.JPG\n"
     ]
    },
    {
     "name": "stdout",
     "output_type": "stream",
     "text": [
      "processing file 4284_c1.JPG\n"
     ]
    },
    {
     "name": "stdout",
     "output_type": "stream",
     "text": [
      "processing file 4284_c2.JPG\n"
     ]
    },
    {
     "name": "stdout",
     "output_type": "stream",
     "text": [
      "processing file 4284_c3.JPG\n"
     ]
    },
    {
     "name": "stdout",
     "output_type": "stream",
     "text": [
      "processing file 4284_c4.JPG\n"
     ]
    },
    {
     "name": "stdout",
     "output_type": "stream",
     "text": [
      "processing file 4284_d1.JPG\n"
     ]
    },
    {
     "name": "stdout",
     "output_type": "stream",
     "text": [
      "processing file 4284_d2.JPG\n"
     ]
    },
    {
     "name": "stdout",
     "output_type": "stream",
     "text": [
      "processing file 4284_d3.JPG\n"
     ]
    },
    {
     "name": "stdout",
     "output_type": "stream",
     "text": [
      "processing file 4284_d4.JPG\n"
     ]
    },
    {
     "name": "stdout",
     "output_type": "stream",
     "text": [
      "processing file 4284_e1.JPG\n"
     ]
    },
    {
     "name": "stdout",
     "output_type": "stream",
     "text": [
      "processing file 4284_e2.JPG\n"
     ]
    },
    {
     "name": "stdout",
     "output_type": "stream",
     "text": [
      "processing file 4284_e3.JPG\n"
     ]
    },
    {
     "name": "stdout",
     "output_type": "stream",
     "text": [
      "processing file 4284_e4.JPG\n"
     ]
    },
    {
     "name": "stdout",
     "output_type": "stream",
     "text": [
      "processing file 4284_f1.JPG\n"
     ]
    },
    {
     "name": "stdout",
     "output_type": "stream",
     "text": [
      "processing file 4284_f2.JPG\n"
     ]
    },
    {
     "name": "stdout",
     "output_type": "stream",
     "text": [
      "processing file 4284_f3.JPG\n"
     ]
    },
    {
     "name": "stdout",
     "output_type": "stream",
     "text": [
      "processing file 4284_f4.JPG\n"
     ]
    },
    {
     "name": "stdout",
     "output_type": "stream",
     "text": [
      "processing file 4284_g1.JPG\n"
     ]
    },
    {
     "name": "stdout",
     "output_type": "stream",
     "text": [
      "processing file 4284_g2.JPG\n"
     ]
    },
    {
     "name": "stdout",
     "output_type": "stream",
     "text": [
      "processing file 4284_g3.JPG\n"
     ]
    },
    {
     "name": "stdout",
     "output_type": "stream",
     "text": [
      "processing file 4284_g4.JPG\n"
     ]
    },
    {
     "name": "stdout",
     "output_type": "stream",
     "text": [
      "processing file 4804_01.JPG\n"
     ]
    },
    {
     "name": "stdout",
     "output_type": "stream",
     "text": [
      "processing file 4804_02.JPG\n"
     ]
    },
    {
     "name": "stdout",
     "output_type": "stream",
     "text": [
      "processing file 4804_03.JPG\n"
     ]
    },
    {
     "name": "stdout",
     "output_type": "stream",
     "text": [
      "processing file 4804_04.JPG\n"
     ]
    },
    {
     "name": "stdout",
     "output_type": "stream",
     "text": [
      "processing file 4804_b_01.JPG\n"
     ]
    },
    {
     "name": "stdout",
     "output_type": "stream",
     "text": [
      "processing file 4804_b_02.JPG\n"
     ]
    },
    {
     "name": "stdout",
     "output_type": "stream",
     "text": [
      "processing file 4804_b_03.JPG\n"
     ]
    },
    {
     "name": "stdout",
     "output_type": "stream",
     "text": [
      "processing file 4804_b_04.JPG\n"
     ]
    },
    {
     "name": "stdout",
     "output_type": "stream",
     "text": [
      "processing file 4804_c1.JPG\n"
     ]
    },
    {
     "name": "stdout",
     "output_type": "stream",
     "text": [
      "processing file 4804_c2.JPG\n"
     ]
    },
    {
     "name": "stdout",
     "output_type": "stream",
     "text": [
      "processing file 4804_c3.JPG\n"
     ]
    },
    {
     "name": "stdout",
     "output_type": "stream",
     "text": [
      "processing file 4804_c4.JPG\n"
     ]
    },
    {
     "name": "stdout",
     "output_type": "stream",
     "text": [
      "processing file 4804_d.JPG\n"
     ]
    },
    {
     "name": "stdout",
     "output_type": "stream",
     "text": [
      "processing file 5824_a1.JPG\n"
     ]
    },
    {
     "name": "stdout",
     "output_type": "stream",
     "text": [
      "processing file 5824_a2.JPG\n"
     ]
    },
    {
     "name": "stdout",
     "output_type": "stream",
     "text": [
      "processing file 5824_a3.JPG\n"
     ]
    },
    {
     "name": "stdout",
     "output_type": "stream",
     "text": [
      "processing file 5824_a4.JPG\n"
     ]
    },
    {
     "name": "stdout",
     "output_type": "stream",
     "text": [
      "processing file 5824_b1.JPG\n"
     ]
    },
    {
     "name": "stdout",
     "output_type": "stream",
     "text": [
      "processing file 5824_b2.JPG\n"
     ]
    },
    {
     "name": "stdout",
     "output_type": "stream",
     "text": [
      "processing file 5824_b3.JPG\n"
     ]
    },
    {
     "name": "stdout",
     "output_type": "stream",
     "text": [
      "processing file 9557_a1.JPG\n"
     ]
    },
    {
     "name": "stdout",
     "output_type": "stream",
     "text": [
      "processing file 9557_a2.JPG\n"
     ]
    },
    {
     "name": "stdout",
     "output_type": "stream",
     "text": [
      "processing file 9557_a3.JPG\n"
     ]
    },
    {
     "name": "stdout",
     "output_type": "stream",
     "text": [
      "processing file 9557_a4.JPG\n"
     ]
    },
    {
     "name": "stdout",
     "output_type": "stream",
     "text": [
      "processing file 9557_b1.JPG\n"
     ]
    },
    {
     "name": "stdout",
     "output_type": "stream",
     "text": [
      "processing file 9557_b2.JPG\n"
     ]
    },
    {
     "name": "stdout",
     "output_type": "stream",
     "text": [
      "processing file 9557_b3.JPG\n"
     ]
    },
    {
     "name": "stdout",
     "output_type": "stream",
     "text": [
      "processing file 9557_b4.JPG\n"
     ]
    },
    {
     "name": "stdout",
     "output_type": "stream",
     "text": [
      "processing file 9557_c1.JPG\n"
     ]
    },
    {
     "name": "stdout",
     "output_type": "stream",
     "text": [
      "processing file 9557_c2.JPG\n"
     ]
    },
    {
     "name": "stdout",
     "output_type": "stream",
     "text": [
      "processing file 9557_c3.JPG\n"
     ]
    },
    {
     "name": "stdout",
     "output_type": "stream",
     "text": [
      "processing file 9557_c4.JPG\n"
     ]
    },
    {
     "name": "stdout",
     "output_type": "stream",
     "text": [
      "processing file 9557_d1.JPG\n"
     ]
    },
    {
     "name": "stdout",
     "output_type": "stream",
     "text": [
      "processing file 9557_d2.JPG\n"
     ]
    },
    {
     "name": "stdout",
     "output_type": "stream",
     "text": [
      "processing file 9557_d3.JPG\n"
     ]
    },
    {
     "name": "stdout",
     "output_type": "stream",
     "text": [
      "processing file 9557_d4.JPG\n"
     ]
    },
    {
     "name": "stdout",
     "output_type": "stream",
     "text": [
      "['Remaining', '$516.00', '$516.00', '$516.00', '$516.00', '$516.00', 'Limit', '$516.00', '$516.00', '$516.00', '$516.00', '$516.00', '1', 'Thru', '08/18', '08/18', '08/18', '08/18', '08/18', 'Number', '0202', '7442', '7517', '9310', '2440', 'Type', 'Recurring', 'Recurring', 'Recurring', 'Recurring', 'Recurring', 'Remaining', '$516.00', '$516.00', '$516.00', '$516.00', '$516.00', 'Limit', '$516.00', '$516.00', '$516.00', '$516.00', '$516.00', 'Thru', '08/18', '08/18', '08/18', '08/18', '08/18', 'Number', '3648', '2125', '6108', '3882', '0276', 'Type', 'Recurring', 'Recurring', 'Recurring', 'Recurring', 'Recurring', 'Remaining', '$476.01', '$476.01', '$476.01', '$476.01', '$476.01', '4', 'Limit', '$516.00', '$516.00', '$516.00', '$516.00', '$516.00', 'Thru', '08/18', '08/18', '08/18', '08/18', '08/18', '07/18', 'Number', '8942', '9849', '7071', '3497', '4371', '1992', 'Type', 'Recurring', 'Recurring', 'Recurring', 'Recurring', 'Recurring', 'Remaining', '$476.01', '$476.01', '$516.00', '$516.00', '$476.01', 'Limit', '$516.00', '$516.00', '$516.00', '$516.00', '$516.00', 'Thru', '07/18', '07/18', '07/18', '07/18', '07/18', 'Number', '1992', '4846', '5755', '1019', '9206', 'Type', 'Recurring', 'Recurring', 'Recurring', 'Recurring', 'Recurring', 'Remaining', '$516.00', '$476.01', '$476.01', '$347.01', '$476.01', 'Limit', '$516.00', '$516.00', '$516.00', '$387.00', '$516.00', 'Thru', '07/18', '07/18', '07/18', '04/18', '07/18', 'Number', '6358', '6771', '0304', '0142', '6286', 'Type', 'Recurring', 'Recurring', 'Recurring', 'Recurring', 'Recurring', 'Remaining', '$476.01', '$476.01', '$476.01', '$476.01', '$476.01', 'Limit', '$516.00', '$516.00', '$516.00', '$516.00', '$516.00', 'Thru', '07/18', '07/18', '07/18', '07/18', '07/18', 'Number', '1993', '4268', '1630', '6565', '2783', 'Type', 'Recurring', 'Recurring', 'Recurring', 'Recurring', 'Recurring', 'Remaining', '$476.01', '$516.00', '$516.00', '$516.00', '$516.00', 'Limit', '$516.00', '$516.00', '$516.00', '$516.00', '$516.00', 'Thru', '07/18', '07/18', '07/18', '07/18', '07/18', 'Number', '2538', '1693', '0354', '8645', '1178', 'Type', 'Recurring', 'Recurring', 'Recurring', 'Recurring', 'Recurring', 'Remaining', '$436.02', '$476.01', '$476.01', '$436.02', '$476.01', 'Limit', '$516.00', '$516.00', '$516.00', '$516.00', '$516.00', 'Thru', '07/18', '07/18', '07/18', '07/18', '07/18', 'Number', '3813', '2099', '8238', '3927', '2217', 'Type', 'Recurring', 'Recurring', 'Recurring', 'Recurring', 'Recurring', 'Remaining', '$476.01', '$476.01', '$516.00', '$516.00', '$476.01', 'Limit', '$516.00', '$516.00', '$516.00', '$516.00', '$516.00', 'Thru', '07/18', '07/18', '07/18', '07/18', '07/18', 'Number', '7355', '4760', '9865', '6580', '1756', 'Type', 'Recurring', 'Recurring', 'Recurring', 'Recurring', 'Recurring', 'Remaining', '$476.01', '$476.01', '$476.01', '$476.01', '$476.01', 'Limit', '$516.00', '$516.00', '$516.00', '$516.00', '$516.00', 'Thru', '07/18', '07/18', '07/18', '07/18', '07/18', '07/18', 'Number', '3993', '0183', '1890', '7038', '7453', 'os', 'Type', 'Recurring', 'Recurring', 'Recurring', 'Recurring', 'Recurring', 'Remaining', '$476.01', '$476.01', '$476.01', '$476.01', '$476.01', '$476.0', 'Limit', '$516.00', '$516.00', '$516.00', '$516.00', '$516.00', '$51', 'Thru', '07/18', '07/18', '07/18', '07/18', '07/18', 'Number', '9105', '4913', '4558', '7966', '1278', 'Type', 'Recurring', 'Recurring', 'Recurring', 'Recurring', 'Recurring', 'Recurri', 'Remaining', '$476.01', '$476.01', '$347.01', '$476.01', '$476.01', 'Limit', '$516.00', '$516.00', '$387.00', '$516.00', '$516.00', 'Thru', '07/18', '07/18', '04/18', '07/18', '07/18', 'Number', '1261', '1258', '8147', '9740', '1546', 'Type', 'Recurring', 'Recurring', 'Recurring', 'Recurring', 'Recurring', 'Remaining', '$476.01', '$347.01', '$347.01', '$347.01', '$347.01', 'Limit', '$516.00', '$387.00', '$387.00', '$387.00', '$387.00', 'Thru', '07/18', '04/18', '04/18', '04/18', '04/18', 'Number', '3572', '1431', '4444', '1631', '3239', 'Type', 'Recurring', 'Recurring', 'Recurring', 'Recurring', 'Recurring', 'Remaining', '$347.01', '$347.01', '$347.01', '$347.01', '$347.01', '337,0', 'Limit', '$387.00', '$387.00', '$387.00', '$387.00', '$387.00', '33', 'Thru', '04/18', '04/18', '04/18', '04/18', '04/18', 'Number', '4788', '3314', '4288', '8009', '1975', 'Type', 'Recurring', 'Recurring', 'Recurring', 'Recurring', 'Recurring', 'urn', 'Remaining', '$387.00', '$347.01', '$387.00', '$347.01', '$476.01', '476.', 'Limit', '$387.00', '$387.00', '$387.00', '$387.00', '$516.00', '51', 'Thru', '03/18', '03/18', '03/18', '03/18', '06/18', 'Number', '0992', '8645', '6888', '2938', '3430', 'Type', 'Recurring', 'Recurring', 'Recurring', 'Recurring', 'Recurring', 'Remaining', '$476.01', '$252.00', '$252.00', '$412.02', '$412.02', 'Limit', '$516.00', '$252.00', '$252.00', '$492.00', '$492.00', 'Thru', '06/18', '11/17', '11/17', '04/18', '04/18', 'Number', '3843', '8897', '9934', '7159', '3401', 'Type', 'Recurring', 'Recurring', 'Recurring', 'Recurring', 'Recurring', 'Remaining', '$372.03', '$332.04', '$412.02', '$412.02', '$412.02', '4', 'Limit', '$492.00', '$492.00', '$492.00', '$492.00', '$492.00', '49', 'Thru', '04/18', '04/18', '04/18', '04/18', '04/18', 'Number', '2995', '1758', '8826', '0729', '0893', 'Type', 'Recurring', 'Recurring', 'Recurring', 'Recurring', 'Recurring', 'Remaining', '$412.02', '$394.14', '$412.02', '$412.02', '$412.02', 'Limit', '$492.00', '$492.00', '$492.00', '$492.00', '$492.00', 'Thru', '04/18', '04/18', '04/18', '04/18', '04/18', 'Number', '0759', '2621', '8896', '0148', '0826', 'Type', 'Recurring', 'Recurring', 'Recurring', 'Recurring', 'Recurring', 'Remaining', '$452.01', '$372.03', '$452.01', '$452.01', '$452.01', 'Limit', '$492.00', '$492.00', '$492.00', '$492.00', '$492.00', '49', 'Thru', '04/18', '04/18', '04/18', '04/18', '04/18', 'Number', '2617', '4294', '5015', '3020', '3131', 'Type', 'Recurring', 'Recurring', 'Recurring', 'Recurring', 'Recurring', 'Remaining', '$452.01', '$332.04', '$452.01', '$452.01', '$452.01', 'Limit', '$492.00', '$492.00', '$492.00', '$492.00', '$492.00', 'Thru', '04/18', '04/18', '04/18', '04/18', '04/18', 'Number', '5196', '3830', '5623', '5002', '2715', 'Type', 'Recurring', 'Recurring', 'Recurring', 'Recurring', 'Recurring', 'Remaining', '$452.01', '$492.00', '$492.00', '$433.97', '$452.01', '332.', 'Limit', '$492.00', '$492.00', '$492.00', '$492.00', '$492.00', '49', 'Thru', '04/18', '04/18', '04/18', '04/18', '04/18', 'Number', '0160', '7824', '5303', '5924', '2074', 'Type', 'Recurring', 'Recurring', 'Recurring', 'Recurring', 'Recurring', 'ecurri', 'Remaining', '$332.04', '$412.02', '$372.03', '$412.02', '$372.03', 'Limit', '$492.00', '$492.00', '$492.00', '$492.00', '$492.00', 'Thru', '04/18', '04/18', '04/18', '04/18', '04/18', 'Number', '0723', '7524', '0644', '5690', '8399', 'Type', 'Recurring', 'Recurring', 'Recurring', 'Recurring', 'Recurring', 'Remaining', '$452.01', '$412.02', '$452.01', '$452.01', '$347.68', 'Limit', '$492.00', '$492.00', '$492.00', '$492.00', '$492.00', '__949', 'Thru', '04/18', '04/18', '04/18', '04/18', '04/18', '04/18', 'Number', '8714', '3763', '1795', '8867', '7867', '4417', 'Type', 'Recurring', 'Recurring', 'Recurring', 'Recurring', 'Recurring', 'Remaining', '$372.03', '$412.02', '$412.02', '$452.01', '$438.22', 'Limit', '$492.00', '$492.00', '$492.00', '$492.00', '$492.00', 'Thru', '04/18', '04/18', '04/18', '04/18', '04/18', 'Number', '4417', '3206', '3549', '8082', '7835', 'Type', 'Recurring', 'Recurring', 'Recurring', 'Recurring', 'Recurring', 'Remaining', '$452.01', '$452.01', '$452.01', '$452.01', '$430.72', '$452,m', 'Limit', '$492.00', '$492.00', '$492.00', '$492.00', '$492.00', '$49', 'Thru', '04/18', '04/18', '04/18', '04/18', '04/18', 'Number', '2505', '1537', '1597', '5029', '6524', 'Type', 'Recurring', 'Recurring', 'Recurring', 'Recurring', 'Recurring', 'Recurri', 'Remaining', '$452.01', '$452.01', '$412.02', '$452.01', '$452.01', 'Limit', '$492.00', '$492.00', '$492.00', '$492.00', '$492.00', '$49', 'Thru', '04/18', '04/18', '04/18', '04/18', '04/18', 'Number', '3764', '3682', '5301', '8288', '2180', 'Type', 'Recurring', 'Recurring', 'Recurring', 'Recurring', 'Recurring', '\"curri', 'Remaining', '$452.01', '$412.02', '$452.01', '$437.85', '$372.03', '452,', 'Limit', '$492.00', '$492.00', '$492.00', '$492.00', '$492.00', '49', 'Thru', '04/18', '04/18', '04/18', '04/18', '04/18', 'Number', '0706', '6659', '2309', '0161', '6742', 'Type', 'Recurring', 'Recurring', 'Recurring', 'Recurring', 'Recurring', 'ecurrj', 'Remaining', '$437.85', '$372.03', '$452.01', '$452.01', '$452.01', 'Limit', '$492.00', '$492.00', '$492.00', '$492.00', '$492.00', 'Thru', '04/18', '04/18', '04/18', '04/18', '04/18', 'Number', '0161', '6742', '5067', '6064', '3325', 'Type', 'Recurring', 'Recurring', 'Recurring', 'Recurring', 'Recurring', 'Remaining', '$516.00', '$516.00', '$516.00', '$516.00', '$516.00', 'Limit', '$516.00', '$516.00', '$516.00', '$516.00', '$516.00', 'Thru', '08/18', '08/18', '08/18', '08/18', '08/18', 'Number', '7930', '8009', '9932', '0526', '7869', 'Type', 'Recurring', 'Recurring', 'Recurring', 'Recurring', 'Recurring', 'Remaining', '$476.01', '$516.00', '$476.01', '$476.01', '$516.00', '7', 'Limit', '$516.00', '$516.00', '$516.00', '$516.00', '$516.00', 'Thru', '08/18', '08/18', '07/18', '07/18', '07/18', 'Number', '3469', '0481', '0469', '1219', '5170', 'Type', 'Recurring', 'Recurring', 'Recurring', 'Recurring', 'Recurring', 'Remaining', '$476.01', '$476.01', '$476.01', '$476.01', '$476.01', 'Limit', '$516.00', '$516.00', '$516.00', '$516.00', '$516.00', 'Thru', '07/18', '07/18', '07/18', '07/18', '07/18', 'Number', '2387', '9787', '1781', '3243', '4630', 'Type', 'Recurring', 'Recurring', 'Recurring', 'Recurring', 'Recurring', 'Remaining', '$476.01', '$476.01', '$476.01', '$476.01', '$476.01', 'Limit', '$516.00', '$516.00', '$516.00', '$516.00', '$516.00', 'Thru', '07/18', '07/18', '07/18', '07/18', '07/18', 'Number', '9620', '1085', '8138', '6775', '3812', 'Type', 'Recurring', 'Recurring', 'Recurring', 'Recurring', 'Recurring', 'Remaining', '$476.01', '$516.00', '$516.00', '$516.00', '$516.00', 'Limit', '$516.00', '$516.00', '$516.00', '$516.00', '$516.00', 'Thru', '07/18', '07/18', '07/18', '07/18', '07/18', 'Number', '0934', '7561', '0699', '9648', '3368', 'Type', 'Recurring', 'Recurring', 'Recurring', 'Recurring', 'Recurring', 'Remaining', '$476.01', '$476.01', '$476.01', '$476.01', '$347.01', 'Limit', '$516.00', '$516.00', '$516.00', '$516.00', '$387.00', 'Thru', '07/18', '07/18', '07/18', '07/18', '03/18', 'Number', '0282', '0554', '4131', '2185', '4627', 'Type', 'Recurring', 'Recurring', 'Recurring', 'Recurring', 'Recurring', 'Remaining', '$347.01', '$347.01', '$347.01', '$347.01', '$347.01', '347.', 'Limit', '$387.00', '$387.00', '$387.00', '$387.00', '$387.00', '38', 'Thru', '03/18', '03/18', '03/18', '03/18', '03/18', 'Number', '8065', '8529', '1131', '9986', '3614', 'Type', 'Recurring', 'Recurring', 'Recurring', 'Recurring', 'Recurring', 'ecurri', 'Remaining', '$347.01', '$436.02', '$476.01', '$476.01', '$476.01', 'Limit', '$387.00', '$516.00', '$516.00', '$516.00', '$516.00', 'Thru', '03/18', '06/18', '06/18', '06/18', '06/18', 'Number', '3909', '5702', '7960', '3855', '1465', 'Type', 'Recurring', 'Recurring', 'Recurring', 'Recurring', 'Recurring', 'Remaining', '$452.91', '$464.01', '$424.02', '$424.02', '$424.02', '7', 'Limit', '$504.00', '$504.00', '$504.00', '$504.00', '$504.00', 'Thru', '06/18', '06/18', '06/18', '06/18', '06/18', 'Number', '6752', '0075', '1447', '7997', '6968', 'Type', 'Recurring', 'Recurring', 'Recurring', 'Recurring', 'Recurring', 'Remaining', '$476.01', '$476.01', '$338.01', '$378.00', '$314.16', 'Limit', '$516.00', '$516.00', '$378.00', '$378.00', '$378.00', 'Thru', '06/18', '06/18', '03/18', '03/18', '03/18', 'Number', '2614', '2866', '5620', '3184', '1884', 'Type', 'Recurring', 'Recurring', 'Recurring', 'Recurring', 'Recurring', 'Remaining', '$298.02', '$338.01', '$424.02', '$424.02', '$464.01', '$46', 'Limit', '$378.00', '$378.00', '$504.00', '$504.00', '$504.00', 'Thru', '03/18', '03/18', '06/18', '06/18', '06/18', '06/18', 'Number', '3199', '1563', '2704', '6611', '1318', '0753', 'Type', 'Recurring', 'Recurring', 'Recurring', 'Recurring', 'Recurring', 'Remaining', '$464.01', '$212.01', '$184.75', '$172.02', '$212.01', 'Limit', '$504.00', '$252.00', '$252.00', '$252.00', '$252.00', 'Thru', '06/18', '11/17', '11/17', '11/17', '11/17', 'Number', '0253', '0125', '4331', '2993', '4408', 'Type', 'Recurring', 'Recurring', 'Recurring', 'Recurring', 'Recurring', 'Remaining', '$492.00', '$469.44', '$469.44', '$452.01', '$452.01', 'Limit', '$492.00', '$492.00', '$492.00', '$492.00', '$492.00', 'Thru', '04/18', '04/18', '04/18', '04/18', '04/18', 'Number', '4029', '4671', '4584', '4266', '1240', 'Type', 'Recurring', 'Recurring', 'Recurring', 'Recurring', 'Recurring', 'Remaining', '$516.00', '$516.00', '$476.01', '$476.01', '$476.01', '4', 'Limit', '$516.00', '$516.00', '$516.00', '$516.00', '$516.00', 'Thru', '08/18', '08/18', '08/18', '08/18', '08/18', '08/18', 'Number', '8171', '3369', '6708', '4535', '0679', '1746', 'Type', 'Recurring', 'Recurring', 'Recurring', 'Recurring', 'Recurring', 'Remaining', '$476.01', '$516.00', '$476.01', '$516.00', '$516.00', 'Limit', '$516.00', '$516.00', '$516.00', '$516.00', '$516.00', 'Thru', '08/18', '08/18', '08/18', '08/18', '08/18', 'Number', '1746', '0335', '4360', '5948', '1999', '8265', 'Type', 'Recurring', 'Recurring', 'Recurring', 'Recurring', 'Recurring', 'Remaining', '$516.00', '$516.00', '$476.01', '$516.00', '$516.00', 'Limit', '$516.00', '$516.00', '$516.00', '$516.00', '$516.00', 'on', 'Thru', '08/18', '08/18', '07/18', '07/18', '07/18', '07/18', 'Number', '8265', '6613', '3558', '1599', '1877', '031', 'Type', 'Recurring', 'Recurring', 'Recurring', 'Recurring', 'Recurring', 'Remaining', '$516.00', '$516.00', '$516.00', '$516.00', '$516.00', 'Limit', '$516.00', '$516.00', '$516.00', '$516.00', '$516.00', 'Thru', '07/18', '07/18', '07/18', '07/18', '07/18', 'Number', '0315', '3387', '9298', '1950', '7477', 'Type', 'Recurring', 'Recurring', 'Recurring', 'Recurring', 'Recurring', 'Remaining', '$516.00', '$516.00', '$516.00', '$476.01', '$476.01', 'Limit', '$516.00', '$516.00', '$516.00', '$516.00', '$516.00', 'Thru', '07/18', '07/18', '07/18', '07/18', '07/18', 'Number', '5714', '0755', '9358', '3403', '9505', 'Type', 'Recurring', 'Recurring', 'Recurring', 'Recurring', 'Recurring', 'Remaining', '$476.01', '$476.01', '$476.01', '$516.00', '$347.01', 'Limit', '$516.00', '$516.00', '$516.00', '$516.00', '$387.00', 'Thru', '07/18', '07/18', '07/18', '07/18', '03/18', 'Number', '8082', '7326', '5233', '1738', '3022', 'Type', 'Recurring', 'Recurring', 'Recurring', 'Recurring', 'Recurring', 'Remaining', '$476.01', '$516.00', '$347.01', '$347.01', '$347.01', 'Limit', '$516.00', '$516.00', '$387.00', '$387.00', '$387.00', 'Thru', '07/18', '07/18', '03/18', '03/18', '03/18', 'Number', '5233', '1738', '3022', '1601', '0460', 'Type', 'Recurring', 'Recurring', 'Recurring', 'Recurring', 'Recurring', 'Remaining', '$516.00', '$516.00', '$516.00', '$516.00', '$516.00', 'Limit', '$516.00', '$516.00', '$516.00', '$516.00', '$516.00', 'Thru', '08/18', '08/18', '08/18', '08/18', '08/18', 'Number', '6179', '6914', '9585', '0629', '4351', 'Type', 'Recurring', 'Recurring', 'Recurring', 'Recurring', 'Recurring', 'Remaining', '$516.00', '$516.00', '$516.00', '$516.00', '$516.00', 'Limit', '$516.00', '$516.00', '$516.00', '$516.00', '$516.00', 'Thru', '08/18', '08/18', '08/18', '08/18', '08/18', 'Number', '0553', '9943', '0546', '4420', '3263', 'Type', 'Recurring', 'Recurring', 'Recurring', 'Recurring', 'Recurring', 'Remaining', '$516.00', '$476.01', '$476.01', '$476.01', '$476.01', 'Limit', '$516.00', '$516.00', '$516.00', '$516.00', '$516.00', 'Thru', '08/18', '08/18', '08/18', '08/18', '08/18', 'Number', '0385', '0391', '2106', '6506', '7448', 'Type', 'Recurring', 'Recurring', 'Recurring', 'Recurring', 'Recurring', 'Remaining', '$516.00', '$516.00', '$516.00', '$476.01', '$476.01', 'Limit', '$516.00', '$516.00', '$516.00', '$516.00', '$516.00', 'Thru', '08/18', '08/18', '08/18', '08/18', '08/18', 'Number', '4258', '0995', '6732', '3741', '1224', 'Type', 'Recurring', 'Recurring', 'Recurring', 'Recurring', 'Recurring', 'Remaining', '$516.00', '$476.01', '$476.01', '$476.01', '$476.01', 'Limit', '$516.00', '$516.00', '$516.00', '$516.00', '$516.00', 'Thru', '08/18', '08/18', '07/18', '07/18', '07/18', 'Number', '9332', '7617', '2354', '4660', '1099', 'Type', 'Recurring', 'Recurring', 'Recurring', 'Recurring', 'Recurring', 'Remaining', '$476.01', '$476.01', '$476.01', '$476.01', '$476.01', '476', 'Limit', '$516.00', '$516.00', '$516.00', '$516.00', '$516.00', '5', 'Thru', '07/18', '07/18', '07/18', '07/18', '07/18', 'Number', '1412', '1626', '5544', '9817', '3628', 'Type', 'Recurring', 'Recurring', 'Recurring', 'Recurring', 'Recurring', 'Remaining', '$476.01', '$476.01', '$476.01', '$476.01', '$476.01', '9476.0!', 'Limit', '$516.00', '$516.00', '$516.00', '$516.00', '$516.00', '$51', 'Thru', '07/18', '07/18', '07/18', '07/18', '07/18', 'Number', '2822', '9785', '6185', '2996', '4027', 'Type', 'Recurring', 'Recurring', 'Recurring', 'Recurring', 'Recurring', 'Recurri', 'Remaining', '$476.01', '$476.01', '$476.01', '$476.01', '$476.01', 'Limit', '$516.00', '$516.00', '$516.00', '$516.00', '$516.00', 'Thru', '07/18', '07/18', '07/18', '07/18', '07/18', 'Number', '7439', '9681', '9729', '1925', '1506', 'Type', 'Recurring', 'Recurring', 'Recurring', 'Recurring', 'Recurring', 'Remaining', '$476.01', '$476.01', '$476.01', '$476.01', '$476.01', 'Limit', '$516.00', '$516.00', '$516.00', '$516.00', '$516.00', 'Thru', '07/18', '07/18', '07/18', '07/18', '07/18', 'Number', '8342', '2912', '4559', '6809', '6205', 'Type', 'Recurring', 'Recurring', 'Recurring', 'Recurring', 'Recurring', 'Remaining', '$476.01', '$476.01', '$516.00', '$496.88', '$516.00', 'Limit', '$516.00', '$516.00', '$516.00', '$516.00', '$516.00', 'Thru', '07/18', '07/18', '07/18', '07/18', '07/18', 'Number', '5528', '3883', '1620', '3144', '3285', 'Type', 'Recurring', 'Recurring', 'Recurring', 'Recurring', 'Recurring', 'Remaining', '$476.01', '$476.01', '$212.01', '$212.01', '$132.03', 'Limit', '$516.00', '$516.00', '$252.00', '$252.00', '$252.00', '5', 'Thru', '07/18', '07/18', '11/17', '11/17', '11/17', 'Number', '3572', '1964', '5175', '4265', '8332', 'Type', 'Recurring', 'Recurring', 'Recurring', 'Recurring', 'Recurring', 'Remaining', '$212.01', '$172.02', '$212.01', '$206.01', '$412.02', 'Limit', '$252.00', '$252.00', '$252.00', '$246.00', '$492.00', 'Thru', '11/17', '11/17', '11/17', '11/17', '04/18', 'Number', '3452', '5772', '6591', '2533', '2771', 'Type', 'Recurring', 'Recurring', 'Recurring', 'Recurring', 'Recurring', 'Remaining', '$452.01', '$452.01', '$375.05', '$452.01', '$452.01', '452.', 'Limit', '$492.00', '$492.00', '$492.00', '$492.00', '$492.00', '49', 'Thru', '04/18', '04/18', '04/18', '04/18', '04/18', 'Number', '1712', '8821', '7571', '9617', '4488', 'Type', 'Recurring', 'Recurring', 'Recurring', 'Recurring', 'Recurring', 'urri', 'Remaining', '$452.01', '$452.01', '$452.01', '$452.01', '$452.01', 'Limit', '$492.00', '$492.00', '$492.00', '$492.00', '$492.00', '4', 'Thru', '04/18', '04/18', '04/18', '04/18', '04/18', 'Number', '0863', '2634', '7701', '8279', '0478', 'Type', 'Recurring', 'Recurring', 'Recurring', 'Recurring', 'Recurring', 'Remaining', '$452.01', '$412.02', '$372.03', '$452.01', '$452.01', 'Limit', '$492.00', '$492.00', '$492.00', '$492.00', '$492.00', 'Thru', '04/18', '04/18', '04/18', '04/18', '04/18', 'Number', '7558', '3530', '3782', '2101', '8201', 'Type', 'Recurring', 'Recurring', 'Recurring', 'Recurring', 'Recurring', 'Remaining', '$372.03', '$452.01', '$452.01', '$372.03', '$452.01', 'Limit', '$492.00', '$492.00', '$492.00', '$492.00', '$492.00', 'Thru', '04/18', '04/18', '04/18', '04/18', '04/18', 'Number', '3782', '2101', '8201', '7749', '5493', 'Type', 'Recurring', 'Recurring', 'Recurring', 'Recurring', 'Recurring']\n1976\n"
     ]
    }
   ],
   "source": [
    "ocr_api = ocr.OCRSpace('6779f6135188957')\n",
    "ocr_matrix = ocr_folder(ocr_api, 'C:\\\\Users\\\\eliiper\\\\Documents\\\\GitHub\\\\ocr\\\\imgs')\n",
    "print(ocr_matrix)\n",
    "print(len(ocr_matrix))"
   ]
  },
  {
   "cell_type": "code",
   "execution_count": 39,
   "metadata": {},
   "outputs": [
    {
     "name": "stdout",
     "output_type": "stream",
     "text": [
      "1976\n"
     ]
    }
   ],
   "source": [
    "nn = len(ocr_matrix)\n",
    "print(nn)"
   ]
  },
  {
   "cell_type": "code",
   "execution_count": 40,
   "metadata": {},
   "outputs": [
    {
     "name": "stdout",
     "output_type": "stream",
     "text": [
      "['$516.00', '$476.01', '$516.00', '$476.01', '$476.01', '7869', '3469', '0481', '0469', '1219']\n"
     ]
    }
   ],
   "source": [
    "def clean(raw_result):\n",
    "    heads = {'Remaining':False, 'Limit':True, 'Thru':True, 'Number':False, 'Type':True}\n",
    "    ret = []\n",
    "    i = 0\n",
    "    while i < len(raw_result):\n",
    "        if raw_result[i] in heads:\n",
    "            if not(heads[raw_result[i]]):\n",
    "                ret += raw_result[i+1:i+6]\n",
    "            i += 5\n",
    "        else:\n",
    "            i += 1\n",
    "    return ret\n",
    "    \n",
    "print(clean(ocr_matrix2))"
   ]
  },
  {
   "cell_type": "code",
   "execution_count": 42,
   "metadata": {},
   "outputs": [
    {
     "name": "stdout",
     "output_type": "stream",
     "text": [
      "640\n"
     ]
    }
   ],
   "source": [
    "cleaned = clean(ocr_matrix)\n",
    "print(len(cleaned))"
   ]
  },
  {
   "cell_type": "code",
   "execution_count": 58,
   "metadata": {},
   "outputs": [],
   "source": [
    "import numpy as np\n",
    "arr = np.reshape(cleaned, (64, 2, 5))\n",
    "two_cols = arr.swapaxes(1,2).reshape(320,2)\n",
    "np.savetxt(\"vcc.csv\", two_cols, fmt=\"%.4s\", delimiter=\",\")"
   ]
  },
  {
   "cell_type": "code",
   "execution_count": null,
   "metadata": {},
   "outputs": [],
   "source": [
    ""
   ]
  }
 ],
 "metadata": {
  "kernelspec": {
   "display_name": "Python 2",
   "language": "python",
   "name": "python2"
  },
  "language_info": {
   "codemirror_mode": {
    "name": "ipython",
    "version": 2.0
   },
   "file_extension": ".py",
   "mimetype": "text/x-python",
   "name": "python",
   "nbconvert_exporter": "python",
   "pygments_lexer": "ipython2",
   "version": "2.7.6"
  }
 },
 "nbformat": 4,
 "nbformat_minor": 0
}