{
 "cells": [
  {
   "cell_type": "code",
   "execution_count": 26,
   "metadata": {
    "collapsed": true
   },
   "outputs": [],
   "source": [
    "import ocr\n",
    "import os\n",
    "import numpy as np\n",
    "#from collections import defaultdict"
   ]
  },
  {
   "cell_type": "code",
   "execution_count": 27,
   "metadata": {
    "collapsed": true
   },
   "outputs": [],
   "source": [
    "def ocr_folder(ocrspace, img_path):\n",
    "    '''\n",
    "    :type ocrspace: ocr.OCRSpace\n",
    "    :type img_path: str\n",
    "    :rtype: list\n",
    "    '''\n",
    "    ocr_result = []\n",
    "    #dct_result = defaultdict(list)\n",
    "    for idx, img_name in enumerate(sorted(os.listdir(img_path))):\n",
    "        if not img_name.lower().endswith(('.bmp', '.jpeg', '.jpg', '.png', '.tif', '.tiff')):\n",
    "            continue\n",
    "        print('processing file {}'.format(img_name))\n",
    "        img_file = os.path.join(img_path, img_name)\n",
    "        file_ocr = ocrspace.ocr_file(img_file)\n",
    "        n = len(file_ocr['ParsedResults'][0]['TextOverlay']['Lines'])\n",
    "        for i in range(n):\n",
    "            #words = file_ocr['ParsedResults'][0]['TextOverlay']['Lines'][i]['Words']\n",
    "            #for j in range(len(words)):\n",
    "            #   ocr_result.append(words[j]['WordText'])\n",
    "            ocr_result.append(file_ocr['ParsedResults'][0]['TextOverlay']['Lines'][i]['Words'][-1]['WordText'])\n",
    "            #dct_result[img_name[:4]].append(file_ocr['ParsedResults'][0]['TextOverlay']['Lines'][i]['Words'][-1]['WordText'])\n",
    "            \n",
    "    return ocr_result\n",
    "\n",
    "def clean_with_heads_define(raw_result, heads):\n",
    "    '''\n",
    "    :type raw_result: list\n",
    "    :type heads: dict\n",
    "    :rtype: list\n",
    "    '''\n",
    "    ret = []\n",
    "    i = 0\n",
    "    while i < len(raw_result):\n",
    "        if raw_result[i] in heads:\n",
    "            if heads[raw_result[i]]:\n",
    "                ret += raw_result[i+1:i+6]\n",
    "            i += 5\n",
    "        else:\n",
    "            i += 1\n",
    "    return ret\n",
    "    \n",
    "def clean(raw_result):\n",
    "    heads = {  # for Numbers\n",
    "             'Remaining':True, 'Limit':False, 'Thru':False, 'Number':True, 'Type':False, \\\n",
    "             'Date':True, 'Merchant':False, 'Amount':True, 'Status':False, 'Num': True, 'Numt': True, 'Numb':True # for Purchases\n",
    "            }\n",
    "    return clean_with_heads_define(raw_result, heads)\n",
    "\n",
    "def card_trans(cardno, ocr_tran, save=False):\n",
    "    trans = clean(ocr_tran)\n",
    "    n = len(trans)\n",
    "    print(len(trans))\n",
    "    col, row = 3,5 \n",
    "    np_trans = np.reshape(trans, (n//(col*row), col, row)).swapaxes(1,2).reshape(n//col, col)\n",
    "    #print(np_trans_4804)\n",
    "    print(np_trans.shape)\n",
    "    # append a column with cardno\n",
    "    new_col = np.full((np_trans.shape[0], 1), cardno, dtype='a4')\n",
    "    np_trans = np.hstack((np_trans, new_col))\n",
    "    if save:\n",
    "        np.savetxt(\"/Users/peli/OneDrive/VCC/Aug11/trans{}.csv\".format(cardno), np_trans, fmt=\"%s\", delimiter=\",\")\n",
    "    return np_trans\n",
    "\n",
    "#print(clean(ocr_matrix2))\n",
    "ocr_api = ocr.OCRSpace('6779f6135188957')"
   ]
  },
  {
   "cell_type": "code",
   "execution_count": 28,
   "metadata": {
    "collapsed": false,
    "scrolled": false
   },
   "outputs": [
    {
     "name": "stdout",
     "output_type": "stream",
     "text": [
      "processing folder:4284\n",
      "processing file Screen Shot 2017-08-13 at 10.11.20 PM.png\n",
      "15\n",
      "(5, 3)\n",
      "current total trans:(5, 4)\n",
      "processing folder:4804\n",
      "processing file Screen Shot 2017-08-13 at 10.09.54 PM.png\n",
      "processing file Screen Shot 2017-08-13 at 10.10.00 PM.png\n",
      "processing file Screen Shot 2017-08-13 at 10.10.08 PM.png\n",
      "45\n",
      "(15, 3)\n",
      "current total trans:(20, 4)\n",
      "processing folder:5824\n",
      "processing file Screen Shot 2017-08-13 at 10.07.56 PM.png\n",
      "processing file Screen Shot 2017-08-13 at 10.08.04 PM.png\n",
      "30\n",
      "(10, 3)\n",
      "current total trans:(30, 4)\n",
      "processing folder:9557\n",
      "processing file Screen Shot 2017-08-13 at 10.10.42 PM.png\n",
      "processing file Screen Shot 2017-08-13 at 10.10.50 PM.png\n",
      "30\n",
      "(10, 3)\n",
      "current total trans:(40, 4)\n"
     ]
    }
   ],
   "source": [
    "root_folder = \"/Users/peli/OneDrive/VCC/Aug13/\"\n",
    "total_result = np.ndarray(shape=(0,4))\n",
    "for f in sorted(os.listdir(root_folder)):\n",
    "    if os.path.isdir(os.path.join(root_folder, f)) and (f in ['4804','5824', '9557', '4284']):\n",
    "        print(\"processing folder:{}\".format(f))\n",
    "        ocr_tran = ocr_folder(ocr_api, os.path.join(root_folder, f))\n",
    "        #print(len(ocr_tran))\n",
    "        np_tran = card_trans(f, ocr_tran)\n",
    "        #print(np_tran.shape)\n",
    "        total_result = np.vstack((total_result, np_tran))\n",
    "        print(\"current total trans:{}\".format(total_result.shape))\n",
    "np.savetxt(\"{}/trans.csv\".format(root_folder), total_result, fmt=\"%s\", delimiter=\",\")"
   ]
  },
  {
   "cell_type": "code",
   "execution_count": null,
   "metadata": {
    "collapsed": true
   },
   "outputs": [],
   "source": []
  }
 ],
 "metadata": {
  "anaconda-cloud": {},
  "kernelspec": {
   "display_name": "Python [default]",
   "language": "python",
   "name": "python3"
  },
  "language_info": {
   "codemirror_mode": {
    "name": "ipython",
    "version": 3
   },
   "file_extension": ".py",
   "mimetype": "text/x-python",
   "name": "python",
   "nbconvert_exporter": "python",
   "pygments_lexer": "ipython3",
   "version": "3.5.2"
  }
 },
 "nbformat": 4,
 "nbformat_minor": 0
}
